{
 "cells": [
  {
   "cell_type": "code",
   "execution_count": 1,
   "metadata": {},
   "outputs": [],
   "source": [
    "using Plots"
   ]
  },
  {
   "cell_type": "code",
   "execution_count": 2,
   "metadata": {},
   "outputs": [],
   "source": [
    "using Distributions, NLsolve"
   ]
  },
  {
   "cell_type": "code",
   "execution_count": 3,
   "metadata": {},
   "outputs": [
    {
     "name": "stderr",
     "output_type": "stream",
     "text": [
      "┌ Warning: `getindex(o::PyObject, s::AbstractString)` is deprecated in favor of dot overloading (`getproperty`) so elements should now be accessed as e.g. `o.\"s\"` instead of `o[\"s\"]`.\n",
      "│   caller = top-level scope at none:0\n",
      "└ @ Core none:0\n"
     ]
    },
    {
     "data": {
      "text/plain": [
       "Plots.PyPlotBackend()"
      ]
     },
     "execution_count": 3,
     "metadata": {},
     "output_type": "execute_result"
    }
   ],
   "source": [
    "pyplot()"
   ]
  },
  {
   "cell_type": "code",
   "execution_count": 5,
   "metadata": {},
   "outputs": [],
   "source": [
    "using IntervalRootFinding, IntervalArithmetic"
   ]
  },
  {
   "cell_type": "code",
   "execution_count": 6,
   "metadata": {},
   "outputs": [],
   "source": [
    "using Roots"
   ]
  },
  {
   "cell_type": "code",
   "execution_count": 7,
   "metadata": {},
   "outputs": [
    {
     "data": {
      "text/plain": [
       "Exponential{Float64}(θ=1.0)"
      ]
     },
     "execution_count": 7,
     "metadata": {},
     "output_type": "execute_result"
    }
   ],
   "source": [
    "dene = Exponential()"
   ]
  },
  {
   "cell_type": "code",
   "execution_count": 74,
   "metadata": {},
   "outputs": [],
   "source": [
    "c = 5\n",
    "T = 0.5\n",
    "beta = 1/T;"
   ]
  },
  {
   "cell_type": "code",
   "execution_count": 75,
   "metadata": {},
   "outputs": [],
   "source": [
    "valores = Float64[]\n",
    "pesos= Float64[];\n"
   ]
  },
  {
   "cell_type": "code",
   "execution_count": 76,
   "metadata": {},
   "outputs": [
    {
     "data": {
      "text/plain": [
       "100000"
      ]
     },
     "execution_count": 76,
     "metadata": {},
     "output_type": "execute_result"
    }
   ],
   "source": [
    "ens = Int64(10^5)"
   ]
  },
  {
   "cell_type": "code",
   "execution_count": 77,
   "metadata": {},
   "outputs": [
    {
     "ename": "InterruptException",
     "evalue": "InterruptException:",
     "output_type": "error",
     "traceback": [
      "InterruptException:",
      "",
      "Stacktrace:",
      " [1] broadcasted at ./broadcast.jl:1144 [inlined]",
      " [2] broadcasted(::Function, ::Float64, ::Int64) at ./broadcast.jl:1142",
      " [3] (::getfield(Main, Symbol(\"#f#17\")))(::Float64) at ./In[77]:7",
      " [4] #bisection#35(::Nothing, ::Nothing, ::Function, ::getfield(Main, Symbol(\"#f#17\")), ::Float64, ::Float64) at /home/tapiasgalind/.julia/packages/Roots/xWzoi/src/simple.jl:77",
      " [5] bisection(::Function, ::Float64, ::Float64) at /home/tapiasgalind/.julia/packages/Roots/xWzoi/src/simple.jl:44",
      " [6] _fz!(::Array{Float64,1}, ::Function, ::Float64, ::Float64, ::Int64, ::Int64) at /home/tapiasgalind/.julia/packages/Roots/xWzoi/src/find_zeros.jl:52",
      " [7] #find_zeros#39(::Int64, ::Int64, ::Bool, ::Base.Iterators.Pairs{Union{},Union{},Tuple{},NamedTuple{(),Tuple{}}}, ::Function, ::getfield(Main, Symbol(\"#f#17\")), ::Float64, ::Float64) at /home/tapiasgalind/.julia/packages/Roots/xWzoi/src/find_zeros.jl:238",
      " [8] find_zeros(::Function, ::Float64, ::Float64) at /home/tapiasgalind/.julia/packages/Roots/xWzoi/src/find_zeros.jl:216",
      " [9] top-level scope at In[77]:9"
     ]
    }
   ],
   "source": [
    "for i in 1:ens\n",
    "ej = rand(dene)\n",
    "ek = rand(dene, c)\n",
    "wkj = 1.0./(1 .+ exp.(-beta.*(ek .- ej)))\n",
    "wjk = 1.0./(1 .+ exp.(-beta.*(ej .- ek)))\n",
    "yk = rand(0:1:c-1, c)\n",
    "f(lambda) = lambda .+ 1/c*sum(wkj.*(1 .- wjk./(wjk .+ lambda.*c .+ yk)))\n",
    "jacob(lambda) = 1 + 1/c*sum(wkj) + sum(wkj.*wjk./(wjk .+ lambda*c .+ yk).^2)\n",
    "vals =  find_zeros(f, -1.,0.)\n",
    "weights = 1.0./[jacob(k) for k in vals]  \n",
    "push!(valores, vals...)\n",
    "push!(pesos, weights...)\n",
    "end"
   ]
  },
  {
   "cell_type": "code",
   "execution_count": 79,
   "metadata": {},
   "outputs": [
    {
     "data": {
      "image/png": "[encoded data removed]"
     },
     "execution_count": 79,
     "metadata": {},
     "output_type": "execute_result"
    }
   ],
   "source": [
    "stephist!(-valores, weightss = pesos,   bins = 100, normed = true, yscale = :log10, label = \"T = 0.5\")"
   ]
  },
  {
   "cell_type": "code",
   "execution_count": 24,
   "metadata": {},
   "outputs": [
    {
     "data": {
      "text/plain": [
       "jacob (generic function with 1 method)"
      ]
     },
     "execution_count": 24,
     "metadata": {},
     "output_type": "execute_result"
    }
   ],
   "source": [
    "jacob(lambda) = 1 + 1/c*sum(wkj) + sum(wkj.*wjk./(wjk .+ lambda*c .+ yk).^2)"
   ]
  },
  {
   "cell_type": "code",
   "execution_count": 29,
   "metadata": {},
   "outputs": [
    {
     "data": {
      "text/plain": [
       "3-element Array{Float64,1}:\n",
       " 0.04255605368525687\n",
       " 0.0                \n",
       " 0.94968673210027   "
      ]
     },
     "execution_count": 29,
     "metadata": {},
     "output_type": "execute_result"
    }
   ],
   "source": [
    "1.0./[jacob(k) for k in vals]   "
   ]
  },
  {
   "cell_type": "code",
   "execution_count": null,
   "metadata": {},
   "outputs": [],
   "source": []
  },
  {
   "cell_type": "code",
   "execution_count": 20,
   "metadata": {},
   "outputs": [],
   "source": [
    "lambda = -1.:0.01:0.\n",
    "fs = [f(x) for x in lambda] ;"
   ]
  },
  {
   "cell_type": "code",
   "execution_count": 21,
   "metadata": {},
   "outputs": [
    {
     "data": {
      "image/png": "[encoded data removed]"
     },
     "execution_count": 21,
     "metadata": {},
     "output_type": "execute_result"
    }
   ],
   "source": [
    "plot(lambda, fs, xaxis = -1.:0.1:0.)"
   ]
  },
  {
   "cell_type": "code",
   "execution_count": 156,
   "metadata": {},
   "outputs": [
    {
     "data": {
      "text/plain": [
       "3-element Array{Float64,1}:\n",
       " -0.9364873612858299\n",
       " -0.7931615223499845\n",
       " -0.2687463052308288"
      ]
     },
     "execution_count": 156,
     "metadata": {},
     "output_type": "execute_result"
    }
   ],
   "source": [
    "b =  find_zeros(f, -1.,0.)\n",
    "d = [f(a) for a in b]\n",
    "k = b[-Inf .< d .< Inf]"
   ]
  },
  {
   "cell_type": "code",
   "execution_count": 157,
   "metadata": {},
   "outputs": [
    {
     "data": {
      "text/plain": [
       "3-element Array{Float64,1}:\n",
       " 2.220446049250313e-16 \n",
       " 1.1102230246251565e-16\n",
       " 1.3877787807814457e-15"
      ]
     },
     "execution_count": 157,
     "metadata": {},
     "output_type": "execute_result"
    }
   ],
   "source": [
    "[f(a) for a in k]"
   ]
  },
  {
   "cell_type": "code",
   "execution_count": 133,
   "metadata": {},
   "outputs": [
    {
     "ename": "MethodError",
     "evalue": "MethodError: no method matching Float64(::Interval{Float64})\nClosest candidates are:\n  Float64(::Real, !Matched::RoundingMode) where T<:AbstractFloat at rounding.jl:185\n  Float64(::T<:Number) where T<:Number at boot.jl:725\n  Float64(!Matched::Int8) at float.jl:60\n  ...",
     "output_type": "error",
     "traceback": [
      "MethodError: no method matching Float64(::Interval{Float64})\nClosest candidates are:\n  Float64(::Real, !Matched::RoundingMode) where T<:AbstractFloat at rounding.jl:185\n  Float64(::T<:Number) where T<:Number at boot.jl:725\n  Float64(!Matched::Int8) at float.jl:60\n  ...",
      "",
      "Stacktrace:",
      " [1] convert(::Type{Float64}, ::Interval{Float64}) at ./number.jl:7",
      " [2] setindex!(::Array{Float64,1}, ::Interval{Float64}, ::Int64) at ./array.jl:769",
      " [3] macro expansion at ./broadcast.jl:814 [inlined]",
      " [4] macro expansion at ./simdloop.jl:73 [inlined]",
      " [5] copyto! at ./broadcast.jl:813 [inlined]",
      " [6] copyto! at ./broadcast.jl:768 [inlined]",
      " [7] copy at ./broadcast.jl:744 [inlined]",
      " [8] materialize(::Base.Broadcast.Broadcasted{Base.Broadcast.DefaultArrayStyle{1},Nothing,typeof(*),Tuple{Array{Float64,1},Base.Broadcast.Broadcasted{Base.Broadcast.DefaultArrayStyle{1},Nothing,typeof(-),Tuple{Int64,Base.Broadcast.Broadcasted{Base.Broadcast.DefaultArrayStyle{1},Nothing,typeof(/),Tuple{Array{Float64,1},Base.Broadcast.Broadcasted{Base.Broadcast.DefaultArrayStyle{1},Nothing,typeof(+),Tuple{Base.Broadcast.Broadcasted{Base.Broadcast.DefaultArrayStyle{1},Nothing,typeof(+),Tuple{Array{Float64,1},Base.Broadcast.Broadcasted{Base.Broadcast.DefaultArrayStyle{0},Nothing,typeof(*),Tuple{Interval{Float64},Int64}}}},Array{Int64,1}}}}}}}}}) at ./broadcast.jl:724",
      " [9] f(::Interval{Float64}) at ./In[120]:6",
      " [10] newtonlike_contract(::typeof(IntervalRootFinding.𝒩), ::Newton{typeof(f),getfield(IntervalRootFinding, Symbol(\"##38#39\")){typeof(f)}}, ::Interval{Float64}, ::Float64) at /home/tapiasgalind/.julia/packages/IntervalRootFinding/H2vL9/src/contractors.jl:41",
      " [11] Newton at /home/tapiasgalind/.julia/packages/IntervalRootFinding/H2vL9/src/contractors.jl:75 [inlined]",
      " [12] step!(::IntervalRootFinding.RootSearchState{Interval{Float64}}, ::Newton{typeof(f),getfield(IntervalRootFinding, Symbol(\"##38#39\")){typeof(f)}}, ::Float64) at /home/tapiasgalind/.julia/packages/IntervalRootFinding/H2vL9/src/roots.jl:60",
      " [13] iterate at /home/tapiasgalind/.julia/packages/IntervalRootFinding/H2vL9/src/roots.jl:83 [inlined]",
      " [14] branch_and_prune(::Interval{Float64}, ::Newton{typeof(f),getfield(IntervalRootFinding, Symbol(\"##38#39\")){typeof(f)}}, ::Float64) at /home/tapiasgalind/.julia/packages/IntervalRootFinding/H2vL9/src/roots.jl:108",
      " [15] roots at /home/tapiasgalind/.julia/packages/IntervalRootFinding/H2vL9/src/roots.jl:159 [inlined]",
      " [16] roots at /home/tapiasgalind/.julia/packages/IntervalRootFinding/H2vL9/src/roots.jl:155 [inlined]",
      " [17] roots at /home/tapiasgalind/.julia/packages/IntervalRootFinding/H2vL9/src/roots.jl:227 [inlined] (repeats 2 times)",
      " [18] top-level scope at In[133]:1"
     ]
    }
   ],
   "source": [
    "d = roots(f, -1..0)"
   ]
  },
  {
   "cell_type": "code",
   "execution_count": 100,
   "metadata": {},
   "outputs": [
    {
     "data": {
      "text/plain": [
       "9-element Array{Float64,1}:\n",
       " -0.7621417465091975 \n",
       " -0.7157112502671885 \n",
       " -0.5938634288167431 \n",
       " -0.5264292054190715 \n",
       " -0.45154811634708275\n",
       " -0.3676785225032114 \n",
       " -0.3502986478276961 \n",
       " -0.3131781279898694 \n",
       " -0.2421445092094585 "
      ]
     },
     "execution_count": 100,
     "metadata": {},
     "output_type": "execute_result"
    }
   ],
   "source": []
  },
  {
   "cell_type": "code",
   "execution_count": 42,
   "metadata": {},
   "outputs": [
    {
     "data": {
      "text/plain": [
       "1-element Array{Float64,1}:\n",
       " -0.5035477791357713"
      ]
     },
     "execution_count": 42,
     "metadata": {},
     "output_type": "execute_result"
    }
   ],
   "source": [
    "b.zero"
   ]
  },
  {
   "cell_type": "code",
   "execution_count": null,
   "metadata": {},
   "outputs": [],
   "source": [
    "fprima(lambda) = 1 + 1/c"
   ]
  }
 ],
 "metadata": {
  "kernelspec": {
   "display_name": "Julia 1.0.0",
   "language": "julia",
   "name": "julia-1.0"
  },
  "language_info": {
   "file_extension": ".jl",
   "mimetype": "application/julia",
   "name": "julia",
   "version": "1.0.0"
  }
 },
 "nbformat": 4,
 "nbformat_minor": 2
}
